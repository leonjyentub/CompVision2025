{
 "cells": [
  {
   "cell_type": "markdown",
   "id": "874ef9ab",
   "metadata": {},
   "source": [
    "## 檔案還蠻大，下載回來自己解壓 :D\n",
    "http://sceneparsing.csail.mit.edu/data/ChallengeData2017/images.tar  850MB\n",
    "http://sceneparsing.csail.mit.edu/data/ChallengeData2017/annotations_instance.tar 86.2MB"
   ]
  },
  {
   "cell_type": "markdown",
   "id": "f97a16d2",
   "metadata": {},
   "source": [
    "#### 不知道為什麼需要這些，先貼著以免忘了\n",
    "https://raw.githubusercontent.com/pytorch/vision/master/references/detection/engine.py\n",
    "https://raw.githubusercontent.com/pytorch/vision/master/references/detection/utils.py\n",
    "https://raw.githubusercontent.com/pytorch/vision/master/references/detection/transforms.py\n",
    "https://raw.githubusercontent.com/pytorch/vision/master/references/detection/coco_eval.py\n",
    "https://raw.githubusercontent.com/pytorch/vision/master/references/detection/coco_utils.py\n",
    "\n",
    "####\n",
    "需要安裝的coco資料集API\n",
    "!pip install -q -U 'git+https://github.com/cocodataset/cocoapi.git#subdirectory=PythonAPI'"
   ]
  },
  {
   "cell_type": "code",
   "execution_count": null,
   "id": "ceda5342",
   "metadata": {
    "vscode": {
     "languageId": "plaintext"
    }
   },
   "outputs": [],
   "source": []
  }
 ],
 "metadata": {
  "language_info": {
   "name": "python"
  }
 },
 "nbformat": 4,
 "nbformat_minor": 5
}
