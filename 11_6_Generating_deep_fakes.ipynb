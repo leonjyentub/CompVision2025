{
  "cells": [
    {
      "cell_type": "markdown",
      "metadata": {},
      "source": [
        "### https://github.com/Oldpan/Faceswap-Deepfake-Pytorch"
      ]
    },
    {
      "cell_type": "code",
      "execution_count": null,
      "metadata": {
        "_cell_guid": "b1076dfc-b9ad-4769-8c92-a6c4dae69d19",
        "_uuid": "8f2839f25d086af736a60e9eeb907d3b93b6e0e5",
        "id": "ov13_44WSBQ8",
        "trusted": true
      },
      "outputs": [],
      "source": [
        "import numpy as np\n",
        "import torch\n",
        "import torch.nn as nn\n",
        "import torch.optim as optim\n",
        "import cv2\n",
        "from torch_snippets_local import *\n",
        "from random_warp import get_training_data\n",
        "import warnings\n",
        "import configparser\n",
        "import matplotlib.pyplot as plt\n",
        "warnings.filterwarnings('ignore')\n",
        "device = torch.device(\"cuda\" if torch.cuda.is_available() else \"cpu\")\n",
        "device"
      ]
    },
    {
      "cell_type": "code",
      "execution_count": null,
      "metadata": {
        "id": "4_RsQrIKSBRB",
        "trusted": true
      },
      "outputs": [],
      "source": [
        "face_cascade = cv2.CascadeClassifier(cv2.data.haarcascades + 'haarcascade_frontalface_default.xml')"
      ]
    },
    {
      "cell_type": "code",
      "execution_count": null,
      "metadata": {
        "_cell_guid": "79c7e3d0-c299-4dcb-8224-4455121ee9b0",
        "_uuid": "d629ff2d2480ee46fbb7e2d37f6b5fab8052498a",
        "id": "CtZ88vcGSBRE",
        "trusted": true
      },
      "outputs": [],
      "source": [
        "def crop_face(img):\n",
        "    gray = cv2.cvtColor(img, cv2.COLOR_BGR2GRAY)\n",
        "    faces = face_cascade.detectMultiScale(gray, 1.3, 5)\n",
        "    if(len(faces)>0):\n",
        "        for (x,y,w,h) in faces:\n",
        "            img2 = img[y:(y+h),x:(x+w),:]\n",
        "        img2 = cv2.resize(img2,(256,256))\n",
        "        return img2, True\n",
        "    else:\n",
        "        return img, False"
      ]
    },
    {
      "cell_type": "code",
      "execution_count": null,
      "metadata": {},
      "outputs": [],
      "source": [
        "# 記得要建立兩個不同人臉的資料夾\n",
        "#!mkdir cropped_faces_personA\n",
        "#!mkdir cropped_faces_personB"
      ]
    },
    {
      "cell_type": "code",
      "execution_count": null,
      "metadata": {
        "id": "HZxVqeKsSBRH",
        "outputId": "ac12ddf4-3317-44f7-f761-9769eabe428e",
        "trusted": true
      },
      "outputs": [],
      "source": [
        "def crop_images(folder):\n",
        "    images = Glob(folder+'/*.jpg')\n",
        "    folder_mapping = {'cage':'personA', 'trump':'personB'}\n",
        "    print(f'{folder} has {len(images)} images')\n",
        "    for i in range(len(images)):\n",
        "        img = readImage2RGB(images[i])\n",
        "        img2, face_detected = crop_face(img)\n",
        "        if(face_detected==False):\n",
        "            continue\n",
        "        else:\n",
        "            dest_folder = folder_mapping[folder.split('\\\\')[-1]]\n",
        "            cv2.imwrite('cropped_faces_'+dest_folder+'/'+str(i)+'.jpg',cv2.cvtColor(img2, cv2.COLOR_RGB2BGR))\n",
        "\n",
        "# Load configuration\n",
        "config = configparser.ConfigParser()\n",
        "config.read('config.ini')\n",
        "# Load parameters from config file\n",
        "#root = '/Users/leonjye/Documents/MachineLearingData'\n",
        "root = config.get('DEFAULT', 'root_dir')\n",
        "IMAGE_ROOT = os.path.join(root, 'faceswap-pytorch', 'data')\n",
        "crop_images(os.path.join(IMAGE_ROOT, 'cage'))\n",
        "crop_images(os.path.join(IMAGE_ROOT, 'trump'))"
      ]
    },
    {
      "cell_type": "code",
      "execution_count": null,
      "metadata": {
        "id": "GoxzhIRwSBRK",
        "outputId": "ccb817be-b455-4dca-8c6e-7ab6f8e479f1",
        "trusted": true
      },
      "outputs": [],
      "source": [
        "from torch.utils.data import Dataset, DataLoader\n",
        "class ImageDataset(Dataset):\n",
        "    def __init__(self, items_A, items_B):\n",
        "        self.items_A = np.concatenate([readImage2RGB(f)[None] for f in items_A])/255.\n",
        "        self.items_B = np.concatenate([readImage2RGB(f)[None] for f in items_B])/255.\n",
        "        self.items_A += self.items_B.mean(axis=(0, 1, 2)) - self.items_A.mean(axis=(0, 1, 2))\n",
        "\n",
        "    def __len__(self):\n",
        "        return min(len(self.items_A), len(self.items_B))\n",
        "    def __getitem__(self, ix):\n",
        "        a, b = choose(self.items_A), choose(self.items_B)\n",
        "        return a, b\n",
        "\n",
        "    def collate_fn(self, batch):\n",
        "        imsA, imsB = list(zip(*batch))\n",
        "        imsA, targetA = get_training_data(imsA, len(imsA))\n",
        "        imsB, targetB = get_training_data(imsB, len(imsB))\n",
        "        imsA, imsB, targetA, targetB = [torch.Tensor(i).permute(0,3,1,2).to(device) for i in [imsA, imsB, targetA, targetB]]\n",
        "        return imsA, imsB, targetA, targetB\n",
        "\n",
        "a = ImageDataset(Glob('cropped_faces_personA'), Glob('cropped_faces_personB'))\n",
        "x = DataLoader(a, batch_size=32, collate_fn=a.collate_fn)"
      ]
    },
    {
      "cell_type": "code",
      "execution_count": null,
      "metadata": {
        "id": "ontuFTvOSBRQ",
        "outputId": "7726c63f-b1cd-4e86-f115-816572a41356",
        "trusted": true
      },
      "outputs": [],
      "source": [
        "inspect_shape(*next(iter(x)))\n",
        "\n",
        "for i in next(iter(x)):\n",
        "    subplots(i[:8], nc=4, sz=(4,2))"
      ]
    },
    {
      "cell_type": "code",
      "execution_count": null,
      "metadata": {
        "id": "CDGF47-xSBRT",
        "trusted": true
      },
      "outputs": [],
      "source": [
        "def _ConvLayer(input_features, output_features):\n",
        "    return nn.Sequential(\n",
        "        nn.Conv2d(input_features, output_features, kernel_size=5, stride=2, padding=2),\n",
        "        nn.LeakyReLU(0.1, inplace=True)\n",
        "    )\n",
        "\n",
        "def _UpScale(input_features, output_features):\n",
        "    return nn.Sequential(\n",
        "        nn.ConvTranspose2d(input_features, output_features, kernel_size=2, stride=2, padding=0),\n",
        "        nn.LeakyReLU(0.1, inplace=True)\n",
        "    )\n",
        "\n",
        "class Reshape(nn.Module):\n",
        "    def forward(self, input):\n",
        "        output = input.view(-1, 1024, 4, 4) # channel * 4 * 4\n",
        "        return output"
      ]
    },
    {
      "cell_type": "code",
      "execution_count": null,
      "metadata": {
        "id": "MwPNNemnSBRW",
        "trusted": true
      },
      "outputs": [],
      "source": [
        "class Autoencoder(nn.Module):\n",
        "    def __init__(self):\n",
        "        super(Autoencoder, self).__init__()\n",
        "\n",
        "        self.encoder = nn.Sequential(\n",
        "            _ConvLayer(3, 128),\n",
        "            _ConvLayer(128, 256),\n",
        "            _ConvLayer(256, 512),\n",
        "            _ConvLayer(512, 1024),\n",
        "            nn.Flatten(),\n",
        "            nn.Linear(1024 * 4 * 4, 1024),\n",
        "            nn.Linear(1024, 1024 * 4 * 4),\n",
        "            Reshape(),\n",
        "            _UpScale(1024, 512),\n",
        "        )\n",
        "\n",
        "        self.decoder_A = nn.Sequential(\n",
        "            _UpScale(512, 256),\n",
        "            _UpScale(256, 128),\n",
        "            _UpScale(128, 64),\n",
        "            nn.Conv2d(64, 3, kernel_size=3, padding=1),\n",
        "            nn.Sigmoid(),\n",
        "        )\n",
        "\n",
        "        self.decoder_B = nn.Sequential(\n",
        "            _UpScale(512, 256),\n",
        "            _UpScale(256, 128),\n",
        "            _UpScale(128, 64),\n",
        "            nn.Conv2d(64, 3, kernel_size=3, padding=1),\n",
        "            nn.Sigmoid(),\n",
        "        )\n",
        "\n",
        "    def forward(self, x, select='A'):\n",
        "        if select == 'A':\n",
        "            out = self.encoder(x)\n",
        "            out = self.decoder_A(out)\n",
        "        else:\n",
        "            out = self.encoder(x)\n",
        "            out = self.decoder_B(out)\n",
        "        return out"
      ]
    },
    {
      "cell_type": "code",
      "execution_count": null,
      "metadata": {
        "id": "YvKnOm2SSBRY",
        "outputId": "879f6308-f665-4385-b732-1a9cbf945e40",
        "trusted": true
      },
      "outputs": [],
      "source": [
        "from torchsummary import summary\n",
        "model = Autoencoder()\n",
        "model = model.to(device)\n",
        "summary(model, input_size=(3, 64, 64), device=device.type) "
      ]
    },
    {
      "cell_type": "code",
      "execution_count": null,
      "metadata": {
        "id": "gY_vgx2dSBRb",
        "trusted": true
      },
      "outputs": [],
      "source": [
        "def train_batch(model, data, criterion, optimizers):\n",
        "    optA, optB = optimizers\n",
        "    optA.zero_grad()\n",
        "    optB.zero_grad()\n",
        "    imgA, imgB, targetA, targetB = data\n",
        "    _imgA, _imgB = model(imgA, 'A'), model(imgB, 'B')\n",
        "\n",
        "    lossA = criterion(_imgA, targetA)\n",
        "    lossB = criterion(_imgB, targetB)\n",
        "    \n",
        "    lossA.backward()\n",
        "    lossB.backward()\n",
        "\n",
        "    optA.step()\n",
        "    optB.step()\n",
        "\n",
        "    return lossA.item(), lossB.item()"
      ]
    },
    {
      "cell_type": "code",
      "execution_count": null,
      "metadata": {
        "id": "Tg_gWHRUSBRe",
        "outputId": "53203e83-bd9f-479d-b6ba-88db4526f26a",
        "trusted": true
      },
      "outputs": [],
      "source": [
        "model = Autoencoder().to(device)\n",
        "\n",
        "dataset = ImageDataset(Glob('cropped_faces_personA'), Glob('cropped_faces_personB'))\n",
        "dataloader = DataLoader(dataset, 512, collate_fn=dataset.collate_fn)\n",
        "\n",
        "optimizers = optim.Adam([{'params': model.encoder.parameters()},\n",
        "                          {'params': model.decoder_A.parameters()}],\n",
        "                        lr=5e-5, betas=(0.5, 0.999)), \\\n",
        "             optim.Adam([{'params': model.encoder.parameters()},\n",
        "                          {'params': model.decoder_B.parameters()}], \n",
        "                        lr=5e-5, betas=(0.5, 0.999))\n",
        "             \n",
        "criterion = nn.L1Loss()"
      ]
    },
    {
      "cell_type": "code",
      "execution_count": null,
      "metadata": {},
      "outputs": [],
      "source": [
        "#!mkdir checkpoint"
      ]
    },
    {
      "cell_type": "code",
      "execution_count": null,
      "metadata": {
        "id": "MXfA-mSuSBRg",
        "outputId": "f08c5cc3-08eb-49ae-d9da-e615611d2547",
        "trusted": true
      },
      "outputs": [],
      "source": [
        "n_epochs = 10000\n",
        "#log = Report(n_epochs)\n",
        "for ex in range(n_epochs):\n",
        "    N = len(dataloader)\n",
        "    for bx,data in enumerate(dataloader):\n",
        "        lossA, lossB = train_batch(model, data, criterion, optimizers)\n",
        "        \n",
        "    #log.report_avgs(ex+1)\n",
        "    if (ex+1)%100 == 0:\n",
        "        print(f'[{ex+1}/{n_epochs}] LossA: {lossA:.4f} LossB: {lossB:.4f}')\n",
        "        \n",
        "    if (ex+1)%1000 == 0:\n",
        "        bs = 5\n",
        "        a,b,A,B = data\n",
        "        line('A to B')\n",
        "        _a = model(a[:bs], 'A')\n",
        "        _b = model(a[:bs], 'B')\n",
        "        x = torch.cat([A[:bs],_a,_b])\n",
        "        subplots(x, nc=bs, figsize=(bs*2, 5))\n",
        "\n",
        "        line('B to A')\n",
        "        _a = model(b[:bs], 'A')\n",
        "        _b = model(b[:bs], 'B')\n",
        "        x = torch.cat([B[:bs],_a,_b])\n",
        "        subplots(x, nc=bs, figsize=(bs*2, 5))\n",
        "\n",
        "state = {\n",
        "    'state': model.state_dict(),\n",
        "    'epoch': ex\n",
        "    }\n",
        "torch.save(state, 'pth/11_6_deepfake_autoencoder.pth')\n",
        "#log.plot_epochs()"
      ]
    }
  ],
  "metadata": {
    "colab": {
      "include_colab_link": true,
      "name": "Generating deep fakes.ipynb",
      "provenance": []
    },
    "kernelspec": {
      "display_name": ".venv (3.12.9)",
      "language": "python",
      "name": "python3"
    },
    "language_info": {
      "codemirror_mode": {
        "name": "ipython",
        "version": 3
      },
      "file_extension": ".py",
      "mimetype": "text/x-python",
      "name": "python",
      "nbconvert_exporter": "python",
      "pygments_lexer": "ipython3",
      "version": "3.12.10"
    }
  },
  "nbformat": 4,
  "nbformat_minor": 0
}
